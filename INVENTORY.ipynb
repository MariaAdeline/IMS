{
 "cells": [
  {
   "cell_type": "markdown",
   "id": "b07917ac",
   "metadata": {},
   "source": [
    "### Opening and Reading values from record.json file"
   ]
  },
  {
   "cell_type": "code",
   "execution_count": null,
   "id": "b55f2f91",
   "metadata": {},
   "outputs": [],
   "source": [
    "import json\n",
    "file=open(\"record.json\",\"r\")\n",
    "a=file.read()\n",
    "file.close()"
   ]
  },
  {
   "cell_type": "markdown",
   "id": "4afe743f",
   "metadata": {},
   "source": [
    "### Loading the record.json file into dictionary format"
   ]
  },
  {
   "cell_type": "code",
   "execution_count": null,
   "id": "f64d5830",
   "metadata": {},
   "outputs": [],
   "source": [
    "b=json.loads(a)"
   ]
  },
  {
   "cell_type": "markdown",
   "id": "0c846eef",
   "metadata": {},
   "source": [
    "### Opening and Reading sales.json file"
   ]
  },
  {
   "cell_type": "code",
   "execution_count": null,
   "id": "b300c515",
   "metadata": {},
   "outputs": [],
   "source": [
    "file=open(\"sales.json\",\"r\")\n",
    "file.read()\n",
    "file.close()"
   ]
  },
  {
   "cell_type": "markdown",
   "id": "dff11ba3",
   "metadata": {},
   "source": [
    "### Importing Python Modules"
   ]
  },
  {
   "cell_type": "code",
   "execution_count": null,
   "id": "39ade17f",
   "metadata": {},
   "outputs": [],
   "source": [
    "import time\n",
    "import random\n",
    "from getpass import getpass"
   ]
  },
  {
   "cell_type": "markdown",
   "id": "42b9f71e",
   "metadata": {},
   "source": [
    "### Main Part of the Inventory Management System where Purchasing Products, Bill generation, Adding products and updation of inventory are done."
   ]
  },
  {
   "cell_type": "code",
   "execution_count": null,
   "id": "14ae4c05",
   "metadata": {},
   "outputs": [],
   "source": [
    "print(\"===================================== Welcome to Adeline Super Market! =========================================\")\n",
    "time.sleep(1)\n",
    "print(\"Available Products...\")\n",
    "print(f\"{'Prod_Id':<5} {'Items':^10} {'Max_Quantity':>5}\")\n",
    "print(\"----------------------------------------------------------------------\")\n",
    "time.sleep(1)\n",
    "for i in b:\n",
    "    print(f\"{i:<5} {b[i]['Item']:^15} {b[i]['maxQty']:>5}\")\n",
    "print(\"----------------------------------------------------------------------\")\n",
    "choice=int(input(\"Customer or Seller? (**Enter 1 for Customer and 2 for Seller**) \"))\n",
    "key=b.keys()\n",
    "if(choice==1):\n",
    "    file=open(\"sales.json\",\"a\")\n",
    "    num=int(input(\"How many products you want to purchase? \"))\n",
    "    if(num>0 and num<=len(key)):\n",
    "        pass\n",
    "        quan=0\n",
    "        amt=0\n",
    "        items=0\n",
    "        ls=[]\n",
    "        for i in range(0,num):\n",
    "            ProdId=str(input(\"Enter the Product Id:\"))\n",
    "            quantity=int(input(\"How much quantity do you want? \"))\n",
    "            if(b[ProdId]['maxQty'] >= quantity):\n",
    "                details=ProdId,b[ProdId]['Item'],quantity,quantity*int(b[ProdId]['MRP']),quantity*int(b[ProdId]['Amount']),b[ProdId]['Category'],b[ProdId]['Expdate'],time.ctime()\n",
    "                ls.append(details)\n",
    "                quan=quan+quantity\n",
    "                amt=amt+(quantity*int(b[ProdId]['Amount']))\n",
    "                b[ProdId]['maxQty']=b[ProdId]['maxQty']-quantity\n",
    "                items=items+1\n",
    "                js = json.dumps(b)\n",
    "                fd = open(\"record.json\",'w')\n",
    "                fd.write(js)\n",
    "                fd.close()\n",
    "            else:\n",
    "                print(\"This product is out of stock :( \")\n",
    "                time.sleep(1)\n",
    "                wish=input(\"Do you wish to continue(yes/no) :\")\n",
    "                if(wish==\"yes\"):\n",
    "                    continue\n",
    "                elif(wish==\"no\"):\n",
    "                    break\n",
    "        if(amt>500 and amt<=1000):\n",
    "            Discount=amt*(0.05)\n",
    "        elif(amt>1000 and amt<=2000):\n",
    "            Discount=amt*(0.10)\n",
    "        elif(amt>2000 and amt<=5000):\n",
    "            Discount=amt*(0.15)\n",
    "        elif(amt>5000 and amt<=10000):\n",
    "            Discount=amt*(0.20)\n",
    "        elif(amt>10000):\n",
    "            Discount=amt*(0.30)\n",
    "        else:\n",
    "            Discount=0\n",
    "        Bill_Amount=amt-Discount\n",
    "        Savings=amt-Bill_Amount\n",
    "        Bill_No=random.randint(123250,979980)\n",
    "    \n",
    "        print(\"****************************************** ADELINE SUPER MARKET **********************************************\")\n",
    "        print('                                         ',\"Manapakkam,Chennai-125\",'                                       ')\n",
    "        print('***************************************',\"PH:21321234,1234459874\",'********************************************')\n",
    "        print(\"Bill No :\",Bill_No)\n",
    "        print(\"-----------------------------------------------------------------------------------------------------------------\")\n",
    "        print(f\"{'Product_Id':<10} {'Items':^16} {'Qty':^10} {'MRP':^10} {'Amount':^10} {'Category':^10} {'Expiry_date':^15} {'Date & Time_of_purchase':>20}\")\n",
    "        print(\"-----------------------------------------------------------------------------------------------------------------\")\n",
    "        for product in ls:\n",
    "            print(f\"{product[0]:<10} {product[1]:^16} {product[2]:^10} {product[3]:^10} {product[4]:^10} {product[5]:^10} {product[6]:^15} {product[7]:>25}\")\n",
    "            s= f\"{product[0]:<10} {product[1]:^16} {product[2]:^10} {product[3]:^10} {product[4]:^10} {product[5]:^10} {product[6]:^15} {product[7]:>25}\"+\"\\n\"\n",
    "            file.write(s)\n",
    "\n",
    "        print(\"-----------------------------------------------------------------------------------------------------------------\")\n",
    "        print(\"Total Amount :\",amt,'                     ',\"Total Items :\",items,'                      ',\"Total Quantity :\",quan)\n",
    "        if(amt>500):\n",
    "            print(\"Discount :\",round(Discount,2))\n",
    "            print(\"Bill Amount :\",round(Bill_Amount,2))\n",
    "            print('______________________________________', \"Todays Savings :\",round(Savings,2),'___________________________________________________')\n",
    "        else:\n",
    "            print(\"Discount :\",Discount)\n",
    "            print(\"Bill Amount :\",amt)\n",
    "        print(\"-----------------------------------------------------------------------------------------------------------------\")\n",
    "        print(\"                                    Thank you for Purchasing with us :)                                          \")\n",
    "        print(\"-----------------------------------------------------------------------------------------------------------------\") \n",
    "        print(\"*******************************************  Do Visit Again!  ***************************************************\")\n",
    "    else:\n",
    "        print(\"Invalid No of Products.! There are only\",len(key),\"Products available.\")\n",
    "    file.close()\n",
    "elif(choice==2):\n",
    "    user=input(\"Username: \")\n",
    "    pw=getpass(\"Password: \")\n",
    "    if(user==\"MariaAdeline\" and pw==\"maria20\" ):\n",
    "        print(\"Login Successful !\")\n",
    "        l=int(input(\"No of Products you want to add: \"))\n",
    "        if(l>=1):\n",
    "            for i in range(0,l):\n",
    "                prod_id=input(\"Enter product id: \")\n",
    "                item=input(\"Enter the Item: \")\n",
    "                mrp=int(input(\"Enter MRP: \"))\n",
    "                amount=int(input(\"Enter price: \"))\n",
    "                quantity=int(input(\"Enter the maximum quantity: \"))\n",
    "                category=input(\"Category: \")\n",
    "                expdate=input(\"Expiry Date Of the Product: \")\n",
    "                b[prod_id] ={'Item':item,'maxQty':quantity,'MRP':mrp,'Amount':amount,'Category':category,'Expdate':expdate}\n",
    "                j = json.dumps(b)\n",
    "                file = open(\"record.json\",'w')\n",
    "                file.write(j)\n",
    "                file.close()\n",
    "            if(l==1):\n",
    "                print(item ,\"is successfully added to the Inventory.!\")\n",
    "            else:\n",
    "                print(\"Products are successfully added to the Inventory.!\")\n",
    "        else:\n",
    "            print(\"Invalid No.of Products !\")\n",
    "    else:\n",
    "        print(\"Invalid Username or Password !\")\n",
    "else:\n",
    "    print(\"Invalid Option...!\")"
   ]
  },
  {
   "cell_type": "markdown",
   "id": "27f5cef0",
   "metadata": {},
   "source": [
    "### Deleting products from the inventory"
   ]
  },
  {
   "cell_type": "code",
   "execution_count": null,
   "id": "36cb6545",
   "metadata": {},
   "outputs": [],
   "source": [
    "x=input(\"How many products you want to delete? \")\n",
    "delete=input(\"Enter the prod id you want to delete: \")\n",
    "for i in x:\n",
    "    del b[delete]\n",
    "    js = json.dumps(b)\n",
    "    fd = open(\"record.json\",'w')\n",
    "    fd.write(js)\n",
    "    fd.close()\n",
    "print(\"The Product is Deleted.!\")"
   ]
  }
 ],
 "metadata": {
  "kernelspec": {
   "display_name": "Python 3",
   "language": "python",
   "name": "python3"
  },
  "language_info": {
   "codemirror_mode": {
    "name": "ipython",
    "version": 3
   },
   "file_extension": ".py",
   "mimetype": "text/x-python",
   "name": "python",
   "nbconvert_exporter": "python",
   "pygments_lexer": "ipython3",
   "version": "3.8.8"
  }
 },
 "nbformat": 4,
 "nbformat_minor": 5
}
