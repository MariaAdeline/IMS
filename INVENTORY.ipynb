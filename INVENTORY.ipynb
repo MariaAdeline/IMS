{
 "cells": [
  {
   "cell_type": "markdown",
   "id": "b07917ac",
   "metadata": {},
   "source": [
    "### Opening and Reading values from record.json file"
   ]
  },
  {
   "cell_type": "code",
   "execution_count": 1,
   "id": "b55f2f91",
   "metadata": {},
   "outputs": [],
   "source": [
    "import json\n",
    "file=open(\"record.json\",\"r\")\n",
    "a=file.read()\n",
    "file.close()"
   ]
  },
  {
   "cell_type": "markdown",
   "id": "4afe743f",
   "metadata": {},
   "source": [
    "### Loading the record.json file into dictionary format"
   ]
  },
  {
   "cell_type": "code",
   "execution_count": 2,
   "id": "f64d5830",
   "metadata": {},
   "outputs": [],
   "source": [
    "b=json.loads(a)"
   ]
  },
  {
   "cell_type": "markdown",
   "id": "0c846eef",
   "metadata": {},
   "source": [
    "### Opening and Reading sales.json file"
   ]
  },
  {
   "cell_type": "code",
   "execution_count": 3,
   "id": "b300c515",
   "metadata": {},
   "outputs": [],
   "source": [
    "file=open(\"sales.json\",\"r\")\n",
    "file.read()\n",
    "file.close()"
   ]
  },
  {
   "cell_type": "markdown",
   "id": "dff11ba3",
   "metadata": {},
   "source": [
    "### Importing Python Modules"
   ]
  },
  {
   "cell_type": "code",
   "execution_count": 4,
   "id": "39ade17f",
   "metadata": {},
   "outputs": [],
   "source": [
    "import time\n",
    "import random\n",
    "from getpass import getpass"
   ]
  },
  {
   "cell_type": "markdown",
   "id": "42b9f71e",
   "metadata": {},
   "source": [
    "### Main Part of the Inventory Management System Program"
   ]
  },
  {
   "cell_type": "code",
   "execution_count": 5,
   "id": "14ae4c05",
   "metadata": {},
   "outputs": [
    {
     "name": "stdout",
     "output_type": "stream",
     "text": [
      "===================================== Welcome to Adeline Super Market! =========================================\n",
      "Available Products...\n",
      "Prod_Id   Items    Max_Quantity\n",
      "----------------------------------------------------------------------\n",
      "1001       Milk          86\n",
      "1002      Cheese        112\n",
      "1003       Eggs          56\n",
      "1004      Butter         96\n",
      "1005       Cream         55\n",
      "1006       Curd          75\n",
      "1007      Orange         68\n",
      "1008       Apple         50\n",
      "1009      Grapes         44\n",
      "1010      Potato         27\n",
      "1011     Mushroom       130\n",
      "1012     Cucumber        54\n",
      "1013      Tomato         60\n",
      "1014       Coke          48\n",
      "1015       Pepsi         31\n",
      "1016       Maaza         19\n",
      "1017     Tropicano       38\n",
      "1018       Water        296\n",
      "1019       Fanta         39\n",
      "1020      Redbull        15\n",
      "1021       Limca         20\n",
      "1022       Slice         30\n",
      "1023        7up          29\n",
      "1024   Basmati Rice      99\n",
      "1025   Briyani Rice     119\n",
      "1026     Olive Oil       48\n",
      "1027   Sunflower Oil    183\n",
      "1028    Mustard Oil      20\n",
      "1029      Popcorn        39\n",
      "1030   Potato Chips      28\n",
      "1031      Biscuit        39\n",
      "1032     Crackers        77\n",
      "1033    Conditioner     123\n",
      "1034     Sanitizer       30\n",
      "1035     Mouthwash      130\n",
      "1036     Detergent       97\n",
      "1037      Bleach         44\n",
      "1038   Air Freshner      50\n",
      "1039  Cockroach Spray    26\n",
      "1040     Dish soap       70\n",
      "----------------------------------------------------------------------\n",
      "Customer or Seller? (**Enter 1 for Customer and 2 for Seller**) 2\n",
      "Username: MariaAdeline\n",
      "Password: ········\n",
      "Login Successful !\n",
      "No of Products you want to add: 1\n",
      "Enter product id: 1041\n",
      "Enter the Item: XXX\n",
      "Enter MRP: 6\n",
      "Enter price: 7\n",
      "Enter the maximum quantity: 8\n",
      "Category: g\n",
      "Expiry Date Of the Product: 3\n",
      "XXX is successfully added to the Inventory.!\n"
     ]
    }
   ],
   "source": [
    "print(\"===================================== Welcome to Adeline Super Market! =========================================\")\n",
    "time.sleep(1)\n",
    "print(\"Available Products...\")\n",
    "print(f\"{'Prod_Id':<5} {'Items':^10} {'Max_Quantity':>5}\")\n",
    "print(\"----------------------------------------------------------------------\")\n",
    "time.sleep(1)\n",
    "for i in b:\n",
    "    print(f\"{i:<5} {b[i]['Item']:^15} {b[i]['maxQty']:>5}\")\n",
    "print(\"----------------------------------------------------------------------\")\n",
    "choice=int(input(\"Customer or Seller? (**Enter 1 for Customer and 2 for Seller**) \"))\n",
    "key=b.keys()\n",
    "if(choice==1):\n",
    "    file=open(\"sales.json\",\"a\")\n",
    "    num=int(input(\"How many products you want to purchase? \"))\n",
    "    if(num>0 and num<=len(key)):\n",
    "        pass\n",
    "        quan=0\n",
    "        amt=0\n",
    "        items=0\n",
    "        ls=[]\n",
    "        for i in range(0,num):\n",
    "            ProdId=str(input(\"Enter the Product Id:\"))\n",
    "            quantity=int(input(\"How much quantity do you want? \"))\n",
    "            if(b[ProdId]['maxQty'] >= quantity):\n",
    "                details=ProdId,b[ProdId]['Item'],quantity,quantity*int(b[ProdId]['MRP']),quantity*int(b[ProdId]['Amount']),b[ProdId]['Category'],b[ProdId]['Expdate'],time.ctime()\n",
    "                ls.append(details)\n",
    "                quan=quan+quantity\n",
    "                amt=amt+(quantity*int(b[ProdId]['Amount']))\n",
    "                b[ProdId]['maxQty']=b[ProdId]['maxQty']-quantity\n",
    "                items=items+1\n",
    "                js = json.dumps(b)\n",
    "                fd = open(\"record.json\",'w')\n",
    "                fd.write(js)\n",
    "                fd.close()\n",
    "            else:\n",
    "                print(\"This product is out of stock :( \")\n",
    "                time.sleep(1)\n",
    "                wish=input(\"Do you wish to continue(yes/no) :\")\n",
    "                if(wish==\"yes\"):\n",
    "                    continue\n",
    "                elif(wish==\"no\"):\n",
    "                    break\n",
    "        if(amt>500 and amt<=1000):\n",
    "            Discount=amt*(0.05)\n",
    "        elif(amt>1000 and amt<=2000):\n",
    "            Discount=amt*(0.10)\n",
    "        elif(amt>2000 and amt<=5000):\n",
    "            Discount=amt*(0.15)\n",
    "        elif(amt>5000 and amt<=10000):\n",
    "            Discount=amt*(0.20)\n",
    "        elif(amt>10000):\n",
    "            Discount=amt*(0.30)\n",
    "        else:\n",
    "            Discount=0\n",
    "        Bill_Amount=amt-Discount\n",
    "        Savings=amt-Bill_Amount\n",
    "        Bill_No=random.randint(123250,979980)\n",
    "    \n",
    "        print(\"****************************************** ADELINE SUPER MARKET **********************************************\")\n",
    "        print('                                         ',\"Manapakkam,Chennai-125\",'                                       ')\n",
    "        print('***************************************',\"PH:21321234,1234459874\",'********************************************')\n",
    "        print(\"Bill No :\",Bill_No)\n",
    "        print(\"-----------------------------------------------------------------------------------------------------------------\")\n",
    "        print(f\"{'Product_Id':<10} {'Items':^16} {'Qty':^10} {'MRP':^10} {'Amount':^10} {'Category':^10} {'Expiry_date':^15} {'Date & Time_of_purchase':>20}\")\n",
    "        print(\"-----------------------------------------------------------------------------------------------------------------\")\n",
    "        for product in ls:\n",
    "            print(f\"{product[0]:<10} {product[1]:^16} {product[2]:^10} {product[3]:^10} {product[4]:^10} {product[5]:^10} {product[6]:^15} {product[7]:>25}\")\n",
    "            s= f\"{product[0]:<10} {product[1]:^16} {product[2]:^10} {product[3]:^10} {product[4]:^10} {product[5]:^10} {product[6]:^15} {product[7]:>25}\"+\"\\n\"\n",
    "            file.write(s)\n",
    "\n",
    "        print(\"-----------------------------------------------------------------------------------------------------------------\")\n",
    "        print(\"Total Amount :\",amt,'                     ',\"Total Items :\",items,'                      ',\"Total Quantity :\",quan)\n",
    "        if(amt>500):\n",
    "            print(\"Discount :\",round(Discount,2))\n",
    "            print(\"Bill Amount :\",round(Bill_Amount,2))\n",
    "            print('______________________________________', \"Todays Savings :\",round(Savings,2),'___________________________________________________')\n",
    "        else:\n",
    "            print(\"Discount :\",Discount)\n",
    "            print(\"Bill Amount :\",amt)\n",
    "        print(\"-----------------------------------------------------------------------------------------------------------------\")\n",
    "        print(\"                                    Thank you for Purchasing with us :)                                          \")\n",
    "        print(\"-----------------------------------------------------------------------------------------------------------------\") \n",
    "        print(\"*******************************************  Do Visit Again!  ***************************************************\")\n",
    "    else:\n",
    "        print(\"Invalid No of Products.! There are only\",len(key),\"Products available.\")\n",
    "    file.close()\n",
    "elif(choice==2):\n",
    "    user=input(\"Username: \")\n",
    "    pw=getpass(\"Password: \")\n",
    "    if(user==\"MariaAdeline\" and pw==\"maria20\" ):\n",
    "        print(\"Login Successful !\")\n",
    "        l=int(input(\"No of Products you want to add: \"))\n",
    "        if(l>=1):\n",
    "            for i in range(0,l):\n",
    "                prod_id=input(\"Enter product id: \")\n",
    "                item=input(\"Enter the Item: \")\n",
    "                mrp=int(input(\"Enter MRP: \"))\n",
    "                amount=int(input(\"Enter price: \"))\n",
    "                quantity=int(input(\"Enter the maximum quantity: \"))\n",
    "                category=input(\"Category: \")\n",
    "                expdate=input(\"Expiry Date Of the Product: \")\n",
    "                b[prod_id] ={'Item':item,'maxQty':quantity,'MRP':mrp,'Amount':amount,'Category':category,'Expdate':expdate}\n",
    "                j = json.dumps(b)\n",
    "                file = open(\"record.json\",'w')\n",
    "                file.write(j)\n",
    "                file.close()\n",
    "            if(l==1):\n",
    "                print(item ,\"is successfully added to the Inventory.!\")\n",
    "            else:\n",
    "                print(\"Products are successfully added to the Inventory.!\")\n",
    "        else:\n",
    "            print(\"Invalid No.of Products !\")\n",
    "    else:\n",
    "        print(\"Invalid Username or Password !\")\n",
    "else:\n",
    "    print(\"Invalid Option...!\")"
   ]
  },
  {
   "cell_type": "markdown",
   "id": "419f4591",
   "metadata": {},
   "source": [
    "### Deleting products from the inventory"
   ]
  },
  {
   "cell_type": "code",
   "execution_count": 7,
   "id": "e6d98cf3",
   "metadata": {},
   "outputs": [
    {
     "name": "stdout",
     "output_type": "stream",
     "text": [
      "How many products you want to delete? 1\n",
      "Enter the prod id you want to delete: 1040\n",
      "The Product is Deleted.!\n"
     ]
    }
   ],
   "source": [
    "x=input(\"How many products you want to delete? \")\n",
    "delete=input(\"Enter the prod id you want to delete: \")\n",
    "for i in x:\n",
    "    del b[delete]\n",
    "    js = json.dumps(b)\n",
    "    fd = open(\"record.json\",'w')\n",
    "    fd.write(js)\n",
    "    fd.close()\n",
    "print(\"The Product is Deleted.!\")"
   ]
  },
  {
   "cell_type": "code",
   "execution_count": null,
   "id": "18926542",
   "metadata": {},
   "outputs": [],
   "source": []
  }
 ],
 "metadata": {
  "kernelspec": {
   "display_name": "Python 3",
   "language": "python",
   "name": "python3"
  },
  "language_info": {
   "codemirror_mode": {
    "name": "ipython",
    "version": 3
   },
   "file_extension": ".py",
   "mimetype": "text/x-python",
   "name": "python",
   "nbconvert_exporter": "python",
   "pygments_lexer": "ipython3",
   "version": "3.8.8"
  }
 },
 "nbformat": 4,
 "nbformat_minor": 5
}
